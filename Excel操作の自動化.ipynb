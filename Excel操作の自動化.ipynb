{
 "cells": [
  {
   "cell_type": "code",
   "execution_count": 1,
   "id": "e01edb27-7c29-44ad-9ed3-e0ba8ca1f759",
   "metadata": {
    "scrolled": true
   },
   "outputs": [
    {
     "name": "stdout",
     "output_type": "stream",
     "text": [
      "Collecting openpyxl\n",
      "  Downloading openpyxl-3.1.2-py2.py3-none-any.whl.metadata (2.5 kB)\n",
      "Collecting et-xmlfile (from openpyxl)\n",
      "  Downloading et_xmlfile-1.1.0-py3-none-any.whl.metadata (1.8 kB)\n",
      "Downloading openpyxl-3.1.2-py2.py3-none-any.whl (249 kB)\n",
      "   ---------------------------------------- 0.0/250.0 kB ? eta -:--:--\n",
      "   ------ --------------------------------- 41.0/250.0 kB 1.9 MB/s eta 0:00:01\n",
      "   ---------------- ----------------------- 102.4/250.0 kB 2.0 MB/s eta 0:00:01\n",
      "   -------------------------------- ------- 204.8/250.0 kB 1.8 MB/s eta 0:00:01\n",
      "   ---------------------------------------- 250.0/250.0 kB 1.7 MB/s eta 0:00:00\n",
      "Downloading et_xmlfile-1.1.0-py3-none-any.whl (4.7 kB)\n",
      "Installing collected packages: et-xmlfile, openpyxl\n",
      "Successfully installed et-xmlfile-1.1.0 openpyxl-3.1.2\n"
     ]
    }
   ],
   "source": [
    "!pip install openpyxl"
   ]
  },
  {
   "cell_type": "code",
   "execution_count": 2,
   "id": "7a653f49-fa56-464b-8727-6f9d84b2045e",
   "metadata": {},
   "outputs": [],
   "source": [
    "import openpyxl"
   ]
  },
  {
   "cell_type": "code",
   "execution_count": 4,
   "id": "70e5be24-598a-452c-8a16-ec2b448ac841",
   "metadata": {},
   "outputs": [],
   "source": [
    "wb = openpyxl.load_workbook(\"出社在宅集計表_人事部.xlsx\") #ブックの指定"
   ]
  },
  {
   "cell_type": "code",
   "execution_count": 6,
   "id": "b952ea3a-bc4d-4a19-9ad8-440407ef179e",
   "metadata": {},
   "outputs": [],
   "source": [
    "ws = wb[\"4月\"] #シートの指定"
   ]
  },
  {
   "cell_type": "code",
   "execution_count": 10,
   "id": "b30ffb65-c421-46a8-8fd4-e41e3ab92301",
   "metadata": {
    "scrolled": true
   },
   "outputs": [
    {
     "data": {
      "text/plain": [
       "24"
      ]
     },
     "execution_count": 10,
     "metadata": {},
     "output_type": "execute_result"
    }
   ],
   "source": [
    "ws.cell(row=2,column=2).value #エクセルの値の抽出　row行　column列"
   ]
  },
  {
   "cell_type": "code",
   "execution_count": 14,
   "id": "3b5c2d45-6a2c-4e84-b302-718ad625a98d",
   "metadata": {},
   "outputs": [],
   "source": [
    "ws.cell(row=3,column=6).value=1000 #代入をしても保存しないと値が反映されない"
   ]
  },
  {
   "cell_type": "code",
   "execution_count": 15,
   "id": "8efb329b-c17b-4876-93fa-1818eca8f14f",
   "metadata": {},
   "outputs": [],
   "source": [
    "wb.save(\"test.xlsx\") #エクセルデータの保存"
   ]
  },
  {
   "cell_type": "code",
   "execution_count": 16,
   "id": "a44367be-004c-4c1f-b91c-dd61cd3ab4cc",
   "metadata": {},
   "outputs": [],
   "source": [
    "wb.save(\"出社在宅集計表_人事部.xlsx\")"
   ]
  },
  {
   "cell_type": "code",
   "execution_count": null,
   "id": "0ad03e77-4adb-4210-beff-165571af52d4",
   "metadata": {},
   "outputs": [],
   "source": []
  }
 ],
 "metadata": {
  "kernelspec": {
   "display_name": "Python 3 (ipykernel)",
   "language": "python",
   "name": "python3"
  },
  "language_info": {
   "codemirror_mode": {
    "name": "ipython",
    "version": 3
   },
   "file_extension": ".py",
   "mimetype": "text/x-python",
   "name": "python",
   "nbconvert_exporter": "python",
   "pygments_lexer": "ipython3",
   "version": "3.12.3"
  }
 },
 "nbformat": 4,
 "nbformat_minor": 5
}
