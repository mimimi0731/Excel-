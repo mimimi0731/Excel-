{
 "cells": [
  {
   "cell_type": "code",
   "execution_count": 2,
   "id": "e01edb27-7c29-44ad-9ed3-e0ba8ca1f759",
   "metadata": {
    "scrolled": true
   },
   "outputs": [
    {
     "name": "stdout",
     "output_type": "stream",
     "text": [
      "Requirement already satisfied: openpyxl in c:\\users\\p8915\\appdata\\local\\programs\\python\\python312\\lib\\site-packages (3.1.2)\n",
      "Requirement already satisfied: et-xmlfile in c:\\users\\p8915\\appdata\\local\\programs\\python\\python312\\lib\\site-packages (from openpyxl) (1.1.0)\n"
     ]
    }
   ],
   "source": [
    "!pip install openpyxl"
   ]
  },
  {
   "cell_type": "code",
   "execution_count": 18,
   "id": "7a653f49-fa56-464b-8727-6f9d84b2045e",
   "metadata": {},
   "outputs": [],
   "source": [
    "import openpyxl"
   ]
  },
  {
   "cell_type": "code",
   "execution_count": 4,
   "id": "70e5be24-598a-452c-8a16-ec2b448ac841",
   "metadata": {},
   "outputs": [],
   "source": [
    "wb = openpyxl.load_workbook(\"出社在宅集計表_人事部.xlsx\") #ブックの指定"
   ]
  },
  {
   "cell_type": "code",
   "execution_count": 5,
   "id": "b952ea3a-bc4d-4a19-9ad8-440407ef179e",
   "metadata": {},
   "outputs": [],
   "source": [
    "ws = wb[\"4月\"] #シートの指定"
   ]
  },
  {
   "cell_type": "code",
   "execution_count": 6,
   "id": "b30ffb65-c421-46a8-8fd4-e41e3ab92301",
   "metadata": {
    "scrolled": true
   },
   "outputs": [
    {
     "data": {
      "text/plain": [
       "24"
      ]
     },
     "execution_count": 6,
     "metadata": {},
     "output_type": "execute_result"
    }
   ],
   "source": [
    "ws.cell(row=2,column=2).value #エクセルの値の抽出　row行　column列"
   ]
  },
  {
   "cell_type": "code",
   "execution_count": 7,
   "id": "3b5c2d45-6a2c-4e84-b302-718ad625a98d",
   "metadata": {},
   "outputs": [],
   "source": [
    "ws.cell(row=3,column=6).value=1000 #代入をしても保存しないと値が反映されない"
   ]
  },
  {
   "cell_type": "code",
   "execution_count": 8,
   "id": "8efb329b-c17b-4876-93fa-1818eca8f14f",
   "metadata": {},
   "outputs": [],
   "source": [
    "wb.save(\"test.xlsx\") #エクセルデータの保存"
   ]
  },
  {
   "cell_type": "code",
   "execution_count": 9,
   "id": "a44367be-004c-4c1f-b91c-dd61cd3ab4cc",
   "metadata": {},
   "outputs": [],
   "source": [
    "wb.save(\"出社在宅集計表_人事部.xlsx\")"
   ]
  },
  {
   "cell_type": "code",
   "execution_count": 37,
   "id": "da763f92-194a-4758-bd01-3b77e7f58bb5",
   "metadata": {},
   "outputs": [
    {
     "data": {
      "text/plain": [
       "'ALL'"
      ]
     },
     "execution_count": 37,
     "metadata": {},
     "output_type": "execute_result"
    }
   ],
   "source": [
    "openpyxl.utils.get_column_letter(1000)"
   ]
  },
  {
   "cell_type": "code",
   "execution_count": 38,
   "id": "7c33bee7-7bee-4dcd-9765-cd51338b36ee",
   "metadata": {},
   "outputs": [
    {
     "data": {
      "text/plain": [
       "31"
      ]
     },
     "execution_count": 38,
     "metadata": {},
     "output_type": "execute_result"
    }
   ],
   "source": [
    "openpyxl.utils.column_index_from_string(\"AE\")  #アルファベットから何行目かがわかる"
   ]
  },
  {
   "cell_type": "code",
   "execution_count": 42,
   "id": "f1a8a01e-33b4-4689-baf7-6f663e56c033",
   "metadata": {},
   "outputs": [],
   "source": [
    "wb_jinji=openpyxl.load_workbook(\"出社在宅集計表_人事部.xlsx\") #Excelデータのロード\n",
    "wb_matome=openpyxl.load_workbook(\"出社在宅集計表_まとめ.xlsx\") \n",
    "\n",
    "\n",
    "ws_matome_4=wb_matome[\"4月\"] #Excelシートの宣言\n",
    "ws_jinji_4=wb_jinji[\"4月\"]\n",
    "\n",
    "ws_matome_5=wb_matome[\"5月\"]\n",
    "ws_jinji_5=wb_jinji[\"5月\"]\n",
    "\n",
    "ws_matome_6=wb_matome[\"6月\"]\n",
    "ws_jinji_6=wb_jinji[\"6月\"]\n",
    "\n",
    "\n",
    "for i in range(30): #代入プログラム\n",
    "    ws_matome_4.cell(row=2,column=i+3).value=ws_jinji_4.cell(row=2,column=i+2).value\n",
    "    ws_matome_4.cell(row=3,column=i+3).value=ws_jinji_4.cell(row=3,column=i+2).value\n",
    "\n",
    "for i in range(31):\n",
    "    ws_matome_5.cell(row=2,column=i+3).value=ws_jinji_5.cell(row=2,column=i+2).value\n",
    "    ws_matome_5.cell(row=3,column=i+3).value=ws_jinji_5.cell(row=3,column=i+2).value\n",
    "\n",
    "for i in range(30):\n",
    "    ws_matome_6.cell(row=2,column=i+3).value=ws_jinji_6.cell(row=2,column=i+2).value\n",
    "    ws_matome_6.cell(row=3,column=i+3).value=ws_jinji_6.cell(row=3,column=i+2).value\n",
    "\n",
    "\n",
    "wb_matome.save(\"出社在宅集計表_まとめ2.xlsx\")"
   ]
  },
  {
   "cell_type": "code",
   "execution_count": 45,
   "id": "3b0e78c1-69c9-43ea-a2c2-478493872c14",
   "metadata": {},
   "outputs": [],
   "source": [
    "month_list = [\"4月\",\"5月\",\"6月\"] #上記プログラムの簡略化\n",
    "\n",
    "for month in month_list:\n",
    "    ws_matome=wb_matome[month]\n",
    "    ws_jinji=wb_jinji[month]\n",
    "\n",
    "    for i in range(ws_jinji.max_column-1): # -1 は最初の文字が入ってる行を除くため\n",
    "        ws_matome.cell(row=2,column=i+3).value=ws_jinji.cell(row=2,column=i+2).value\n",
    "        ws_matome.cell(row=3,column=i+3).value=ws_jinji.cell(row=3,column=i+2).value\n",
    "wb_matome.save(\"出社在宅集計表_まとめ3.xlsx\")"
   ]
  },
  {
   "cell_type": "code",
   "execution_count": 43,
   "id": "7f44e12b-66c5-4078-97f8-db776c7cbed0",
   "metadata": {},
   "outputs": [
    {
     "data": {
      "text/plain": [
       "31"
      ]
     },
     "execution_count": 43,
     "metadata": {},
     "output_type": "execute_result"
    }
   ],
   "source": [
    "ws_jinji_6.max_column"
   ]
  },
  {
   "cell_type": "code",
   "execution_count": null,
   "id": "aa71d60f-9d55-4cf7-9a1c-15cf912d048c",
   "metadata": {},
   "outputs": [],
   "source": []
  }
 ],
 "metadata": {
  "kernelspec": {
   "display_name": "Python 3 (ipykernel)",
   "language": "python",
   "name": "python3"
  },
  "language_info": {
   "codemirror_mode": {
    "name": "ipython",
    "version": 3
   },
   "file_extension": ".py",
   "mimetype": "text/x-python",
   "name": "python",
   "nbconvert_exporter": "python",
   "pygments_lexer": "ipython3",
   "version": "3.12.3"
  }
 },
 "nbformat": 4,
 "nbformat_minor": 5
}
